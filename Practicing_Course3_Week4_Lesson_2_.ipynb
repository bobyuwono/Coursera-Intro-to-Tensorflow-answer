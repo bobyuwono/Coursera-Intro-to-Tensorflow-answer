{
  "nbformat": 4,
  "nbformat_minor": 0,
  "metadata": {
    "colab": {
      "name": "Practicing Course3- Week4 - Lesson 2 .ipynb",
      "provenance": [],
      "authorship_tag": "ABX9TyM/V5v7mDCBHMYHxbALm9fw",
      "include_colab_link": true
    },
    "kernelspec": {
      "name": "python3",
      "display_name": "Python 3"
    }
  },
  "cells": [
    {
      "cell_type": "markdown",
      "metadata": {
        "id": "view-in-github",
        "colab_type": "text"
      },
      "source": [
        "<a href=\"https://colab.research.google.com/github/bobyuwono/Coursera-Intro-to-Tensorflow-answer/blob/master/Practicing_Course3_Week4_Lesson_2_.ipynb\" target=\"_parent\"><img src=\"https://colab.research.google.com/assets/colab-badge.svg\" alt=\"Open In Colab\"/></a>"
      ]
    },
    {
      "cell_type": "code",
      "metadata": {
        "id": "xd8awvmaI3UP",
        "colab_type": "code",
        "colab": {}
      },
      "source": [
        "!wget "
      ],
      "execution_count": 0,
      "outputs": []
    }
  ]
}